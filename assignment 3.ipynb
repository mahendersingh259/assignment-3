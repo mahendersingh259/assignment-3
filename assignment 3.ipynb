{
 "cells": [
  {
   "cell_type": "code",
   "execution_count": 5,
   "metadata": {},
   "outputs": [
    {
     "name": "stdout",
     "output_type": "stream",
     "text": [
      "Oops!  not a valid operation\n"
     ]
    }
   ],
   "source": [
    "#Task 1\n",
    "#question 1\n",
    "\n",
    "def compute(a,b):\n",
    "    try:\n",
    "        c=a/b\n",
    "        return c\n",
    "    except ZeroDivisionError:\n",
    "        print(\"Oops!  not a valid operation\")\n",
    "compute(5,0)\n"
   ]
  },
  {
   "cell_type": "code",
   "execution_count": 14,
   "metadata": {},
   "outputs": [
    {
     "name": "stdout",
     "output_type": "stream",
     "text": [
      "Americans play Baseball\n",
      "Americans play Cricket\n",
      "Americans watch Baseball\n",
      "Americans watch Cricket\n",
      "Indian play Baseball\n",
      "Indian play Cricket\n",
      "Indian watch Baseball\n",
      "Indian watch Cricket\n"
     ]
    }
   ],
   "source": [
    "#question 2\n",
    "def listToString(s):  \n",
    "    \n",
    "    # initialize an empty string \n",
    "    str1 = \" \" \n",
    "    \n",
    "    # return string   \n",
    "    return (str1.join(s)) \n",
    "subjects=[['Americans'],['Indian']]\n",
    "verbs=[['play'],['watch']]\n",
    "objects=[['Baseball'],['Cricket']]\n",
    "\n",
    "for sub in subjects:\n",
    "    for ver in verbs:\n",
    "        for obj in objects:\n",
    "            print(listToString(sub)+\" \"+listToString(ver)+\" \"+listToString(obj))"
   ]
  },
  {
   "cell_type": "code",
   "execution_count": 13,
   "metadata": {},
   "outputs": [
    {
     "data": {
      "text/plain": [
       "array([[ 1,  4,  9, 25],\n",
       "       [ 1,  2,  3,  5],\n",
       "       [ 1,  1,  1,  1]], dtype=int32)"
      ]
     },
     "execution_count": 13,
     "metadata": {},
     "output_type": "execute_result"
    }
   ],
   "source": [
    "#task 2\n",
    "#question 1\n",
    "def matpower(arr,N):\n",
    "    import numpy as np\n",
    "    return np.array([x**(N-1-i) for i in range(N)])\n",
    "\n",
    "x = np.array([1, 2, 3, 5])\n",
    "N = 3\n",
    "matpower(x,N)"
   ]
  },
  {
   "cell_type": "code",
   "execution_count": 19,
   "metadata": {},
   "outputs": [
    {
     "data": {
      "text/plain": [
       "[array([ 1,  4,  9, 25], dtype=int32),\n",
       " array([1, 2, 3, 5], dtype=int32),\n",
       " array([1, 1, 1, 1], dtype=int32)]"
      ]
     },
     "execution_count": 19,
     "metadata": {},
     "output_type": "execute_result"
    }
   ],
   "source": []
  },
  {
   "cell_type": "code",
   "execution_count": 24,
   "metadata": {},
   "outputs": [
    {
     "name": "stdout",
     "output_type": "stream",
     "text": [
      "[1 1 1 1]\n",
      "[1 2 3 5]\n",
      "[ 1  4  9 25]\n"
     ]
    }
   ],
   "source": []
  },
  {
   "cell_type": "code",
   "execution_count": null,
   "metadata": {
    "collapsed": true
   },
   "outputs": [],
   "source": []
  }
 ],
 "metadata": {
  "kernelspec": {
   "display_name": "Python 3",
   "language": "python",
   "name": "python3"
  },
  "language_info": {
   "codemirror_mode": {
    "name": "ipython",
    "version": 3
   },
   "file_extension": ".py",
   "mimetype": "text/x-python",
   "name": "python",
   "nbconvert_exporter": "python",
   "pygments_lexer": "ipython3",
   "version": "3.6.3"
  }
 },
 "nbformat": 4,
 "nbformat_minor": 2
}
